{
 "cells": [
  {
   "cell_type": "code",
   "execution_count": 1,
   "metadata": {
    "id": "atw2Xac9I0xl",
    "tags": []
   },
   "outputs": [],
   "source": [
    "import numpy as np\n",
    "import matplotlib.pyplot as plt\n",
    "import pandas as pd\n",
    "import seaborn as sns\n",
    "sns.set()"
   ]
  },
  {
   "cell_type": "code",
   "execution_count": 2,
   "metadata": {
    "colab": {
     "base_uri": "https://localhost:8080/",
     "height": 302
    },
    "id": "NPfi2q75I0xl",
    "outputId": "1f049900-3b13-433a-fa05-c439e3d9c2de",
    "tags": []
   },
   "outputs": [
    {
     "data": {
      "text/html": [
       "<div>\n",
       "<style scoped>\n",
       "    .dataframe tbody tr th:only-of-type {\n",
       "        vertical-align: middle;\n",
       "    }\n",
       "\n",
       "    .dataframe tbody tr th {\n",
       "        vertical-align: top;\n",
       "    }\n",
       "\n",
       "    .dataframe thead th {\n",
       "        text-align: right;\n",
       "    }\n",
       "</style>\n",
       "<table border=\"1\" class=\"dataframe\">\n",
       "  <thead>\n",
       "    <tr style=\"text-align: right;\">\n",
       "      <th></th>\n",
       "      <th>CustomerId</th>\n",
       "      <th>Surname</th>\n",
       "      <th>CreditScore</th>\n",
       "      <th>Geography</th>\n",
       "      <th>Gender</th>\n",
       "      <th>Age</th>\n",
       "      <th>Tenure</th>\n",
       "      <th>Balance</th>\n",
       "      <th>NumOfProducts</th>\n",
       "      <th>HasCrCard</th>\n",
       "      <th>IsActiveMember</th>\n",
       "      <th>EstimatedSalary</th>\n",
       "      <th>Exited</th>\n",
       "    </tr>\n",
       "    <tr>\n",
       "      <th>RowNumber</th>\n",
       "      <th></th>\n",
       "      <th></th>\n",
       "      <th></th>\n",
       "      <th></th>\n",
       "      <th></th>\n",
       "      <th></th>\n",
       "      <th></th>\n",
       "      <th></th>\n",
       "      <th></th>\n",
       "      <th></th>\n",
       "      <th></th>\n",
       "      <th></th>\n",
       "      <th></th>\n",
       "    </tr>\n",
       "  </thead>\n",
       "  <tbody>\n",
       "    <tr>\n",
       "      <th>1</th>\n",
       "      <td>15634602</td>\n",
       "      <td>Hargrave</td>\n",
       "      <td>619</td>\n",
       "      <td>France</td>\n",
       "      <td>Female</td>\n",
       "      <td>42</td>\n",
       "      <td>2</td>\n",
       "      <td>0.00</td>\n",
       "      <td>1</td>\n",
       "      <td>1</td>\n",
       "      <td>1</td>\n",
       "      <td>101348.88</td>\n",
       "      <td>1</td>\n",
       "    </tr>\n",
       "    <tr>\n",
       "      <th>2</th>\n",
       "      <td>15647311</td>\n",
       "      <td>Hill</td>\n",
       "      <td>608</td>\n",
       "      <td>Spain</td>\n",
       "      <td>Female</td>\n",
       "      <td>41</td>\n",
       "      <td>1</td>\n",
       "      <td>83807.86</td>\n",
       "      <td>1</td>\n",
       "      <td>0</td>\n",
       "      <td>1</td>\n",
       "      <td>112542.58</td>\n",
       "      <td>0</td>\n",
       "    </tr>\n",
       "    <tr>\n",
       "      <th>3</th>\n",
       "      <td>15619304</td>\n",
       "      <td>Onio</td>\n",
       "      <td>502</td>\n",
       "      <td>France</td>\n",
       "      <td>Female</td>\n",
       "      <td>42</td>\n",
       "      <td>8</td>\n",
       "      <td>159660.80</td>\n",
       "      <td>3</td>\n",
       "      <td>1</td>\n",
       "      <td>0</td>\n",
       "      <td>113931.57</td>\n",
       "      <td>1</td>\n",
       "    </tr>\n",
       "    <tr>\n",
       "      <th>4</th>\n",
       "      <td>15701354</td>\n",
       "      <td>Boni</td>\n",
       "      <td>699</td>\n",
       "      <td>France</td>\n",
       "      <td>Female</td>\n",
       "      <td>39</td>\n",
       "      <td>1</td>\n",
       "      <td>0.00</td>\n",
       "      <td>2</td>\n",
       "      <td>0</td>\n",
       "      <td>0</td>\n",
       "      <td>93826.63</td>\n",
       "      <td>0</td>\n",
       "    </tr>\n",
       "    <tr>\n",
       "      <th>5</th>\n",
       "      <td>15737888</td>\n",
       "      <td>Mitchell</td>\n",
       "      <td>850</td>\n",
       "      <td>Spain</td>\n",
       "      <td>Female</td>\n",
       "      <td>43</td>\n",
       "      <td>2</td>\n",
       "      <td>125510.82</td>\n",
       "      <td>1</td>\n",
       "      <td>1</td>\n",
       "      <td>1</td>\n",
       "      <td>79084.10</td>\n",
       "      <td>0</td>\n",
       "    </tr>\n",
       "  </tbody>\n",
       "</table>\n",
       "</div>"
      ],
      "text/plain": [
       "           CustomerId   Surname  CreditScore Geography  Gender  Age  Tenure  \\\n",
       "RowNumber                                                                     \n",
       "1            15634602  Hargrave          619    France  Female   42       2   \n",
       "2            15647311      Hill          608     Spain  Female   41       1   \n",
       "3            15619304      Onio          502    France  Female   42       8   \n",
       "4            15701354      Boni          699    France  Female   39       1   \n",
       "5            15737888  Mitchell          850     Spain  Female   43       2   \n",
       "\n",
       "             Balance  NumOfProducts  HasCrCard  IsActiveMember  \\\n",
       "RowNumber                                                        \n",
       "1               0.00              1          1               1   \n",
       "2           83807.86              1          0               1   \n",
       "3          159660.80              3          1               0   \n",
       "4               0.00              2          0               0   \n",
       "5          125510.82              1          1               1   \n",
       "\n",
       "           EstimatedSalary  Exited  \n",
       "RowNumber                           \n",
       "1                101348.88       1  \n",
       "2                112542.58       0  \n",
       "3                113931.57       1  \n",
       "4                 93826.63       0  \n",
       "5                 79084.10       0  "
      ]
     },
     "execution_count": 2,
     "metadata": {},
     "output_type": "execute_result"
    }
   ],
   "source": [
    "df = pd.read_csv('Churn_Modelling.csv', index_col = 'RowNumber')\n",
    "df.head()\n"
   ]
  },
  {
   "cell_type": "code",
   "execution_count": 3,
   "metadata": {
    "colab": {
     "base_uri": "https://localhost:8080/"
    },
    "id": "jelFHwknI0xm",
    "outputId": "e8e8af69-44e3-4b72-84cf-e15d6b026a5f",
    "tags": []
   },
   "outputs": [
    {
     "name": "stdout",
     "output_type": "stream",
     "text": [
      "['CreditScore', 'Geography', 'Gender', 'Age', 'Tenure', 'Balance', 'NumOfProducts', 'HasCrCard', 'IsActiveMember', 'EstimatedSalary']\n",
      "['Exited']\n"
     ]
    }
   ],
   "source": [
    "X_columns = df.columns.tolist()[2:12]\n",
    "Y_columns = df.columns.tolist()[-1:]\n",
    "print(X_columns)\n",
    "print(Y_columns)"
   ]
  },
  {
   "cell_type": "code",
   "execution_count": 4,
   "metadata": {
    "id": "_EnXaCYmI0xn",
    "tags": []
   },
   "outputs": [],
   "source": [
    "X = df[X_columns].values \n",
    "Y = df[Y_columns].values"
   ]
  },
  {
   "cell_type": "code",
   "execution_count": 5,
   "metadata": {
    "id": "cjbVx3FRI0xn",
    "tags": []
   },
   "outputs": [],
   "source": [
    "from sklearn.preprocessing import LabelEncoder\n",
    "X_column_transformer = LabelEncoder()\n",
    "X[:, 1] = X_column_transformer.fit_transform(X[:, 1])"
   ]
  },
  {
   "cell_type": "code",
   "execution_count": 6,
   "metadata": {
    "id": "tS02t4y9I0xn",
    "tags": []
   },
   "outputs": [],
   "source": [
    "X[:, 2] = X_column_transformer.fit_transform(X[:, 2])"
   ]
  },
  {
   "cell_type": "markdown",
   "metadata": {
    "id": "DKwFc-HWI0xo"
   },
   "source": [
    "We are treating countries with ordinal values(0 < 1 < 2) but they are incomparable.\n",
    "To solve this we can use one hot encoding.\n",
    "We will perform some standardization "
   ]
  },
  {
   "cell_type": "code",
   "execution_count": 7,
   "metadata": {
    "id": "v-bI9UNiI0xo",
    "tags": []
   },
   "outputs": [],
   "source": [
    "from sklearn.preprocessing import StandardScaler, OneHotEncoder\n",
    "from sklearn.compose import ColumnTransformer\n",
    "from sklearn.pipeline import Pipeline\n",
    "\n",
    "pipeline = Pipeline(\n",
    "    [\n",
    "        ('Categorizer', ColumnTransformer(\n",
    "            [\n",
    "                (\"Gender Label Encoder\", OneHotEncoder(categories = 'auto', drop = 'first'), [2]),\n",
    "                (\"Geography Label Encoder\", OneHotEncoder(categories = 'auto', drop = 'first'), [1])\n",
    "            ], \n",
    "            remainder = 'passthrough', n_jobs = 1)),\n",
    "        ('Normalizer', StandardScaler())\n",
    "    ]\n",
    ")"
   ]
  },
  {
   "cell_type": "code",
   "execution_count": 8,
   "metadata": {
    "id": "7_TO_-fQI0xp",
    "tags": []
   },
   "outputs": [],
   "source": [
    "X = pipeline.fit_transform(X)"
   ]
  },
  {
   "cell_type": "code",
   "execution_count": 9,
   "metadata": {
    "id": "OJ7VUetiI0xq",
    "tags": []
   },
   "outputs": [],
   "source": [
    "from sklearn.model_selection import train_test_split\n",
    "X_train, X_test, y_train, y_test = train_test_split(X, Y, test_size = 0.2, random_state = 0)"
   ]
  },
  {
   "cell_type": "code",
   "execution_count": 10,
   "metadata": {
    "id": "mX35INUFI0xr",
    "tags": []
   },
   "outputs": [],
   "source": [
    "from keras.models import Sequential\n",
    "from keras.layers import Dense, Dropout"
   ]
  },
  {
   "cell_type": "code",
   "execution_count": 11,
   "metadata": {
    "id": "VYIsyqOUI0xs",
    "tags": []
   },
   "outputs": [],
   "source": [
    "classifier = Sequential()"
   ]
  },
  {
   "cell_type": "code",
   "execution_count": 12,
   "metadata": {
    "id": "i3nH8oOhJcp8",
    "tags": []
   },
   "outputs": [],
   "source": [
    "classifier.add(Dense(6, activation = 'relu', input_shape = (X_train.shape[1], )))\n",
    "classifier.add(Dropout(rate = 0.1))"
   ]
  },
  {
   "cell_type": "code",
   "execution_count": 13,
   "metadata": {
    "id": "gULE3c-YPvsI",
    "tags": []
   },
   "outputs": [],
   "source": [
    "classifier.add(Dense(6, activation = 'relu'))\n",
    "classifier.add(Dropout(rate = 0.1))"
   ]
  },
  {
   "cell_type": "code",
   "execution_count": 14,
   "metadata": {
    "id": "j_XpNLaSP9Qk",
    "tags": []
   },
   "outputs": [],
   "source": [
    "classifier.add(Dense(1, activation = 'sigmoid'))"
   ]
  },
  {
   "cell_type": "code",
   "execution_count": 15,
   "metadata": {
    "colab": {
     "base_uri": "https://localhost:8080/"
    },
    "id": "5rodKUhIQUWH",
    "outputId": "a8dd63ea-6662-41f3-a43b-4f3f4567a06d",
    "tags": []
   },
   "outputs": [
    {
     "name": "stdout",
     "output_type": "stream",
     "text": [
      "Model: \"sequential\"\n",
      "_________________________________________________________________\n",
      " Layer (type)                Output Shape              Param #   \n",
      "=================================================================\n",
      " dense (Dense)               (None, 6)                 72        \n",
      "                                                                 \n",
      " dropout (Dropout)           (None, 6)                 0         \n",
      "                                                                 \n",
      " dense_1 (Dense)             (None, 6)                 42        \n",
      "                                                                 \n",
      " dropout_1 (Dropout)         (None, 6)                 0         \n",
      "                                                                 \n",
      " dense_2 (Dense)             (None, 1)                 7         \n",
      "                                                                 \n",
      "=================================================================\n",
      "Total params: 121\n",
      "Trainable params: 121\n",
      "Non-trainable params: 0\n",
      "_________________________________________________________________\n"
     ]
    }
   ],
   "source": [
    "classifier.summary()"
   ]
  },
  {
   "cell_type": "code",
   "execution_count": 16,
   "metadata": {
    "id": "XfHGyyviSXed",
    "tags": []
   },
   "outputs": [],
   "source": [
    "classifier.compile(optimizer = 'adam', loss = 'binary_crossentropy', metrics = ['accuracy'])"
   ]
  },
  {
   "cell_type": "code",
   "execution_count": null,
   "metadata": {
    "colab": {
     "base_uri": "https://localhost:8080/"
    },
    "id": "7px7qzJQVhan",
    "outputId": "09d47fa7-684c-424c-f144-e86492bcfa24"
   },
   "outputs": [
    {
     "name": "stdout",
     "output_type": "stream",
     "text": [
      "Epoch 1/200\n",
      "225/225 - 5s - loss: 0.6305 - accuracy: 0.7140 - val_loss: 0.5356 - val_accuracy: 0.7962 - 5s/epoch - 20ms/step\n",
      "Epoch 2/200\n",
      "225/225 - 1s - loss: 0.5071 - accuracy: 0.7990 - val_loss: 0.4537 - val_accuracy: 0.8037 - 892ms/epoch - 4ms/step\n",
      "Epoch 3/200\n",
      "225/225 - 1s - loss: 0.4689 - accuracy: 0.7997 - val_loss: 0.4317 - val_accuracy: 0.8075 - 866ms/epoch - 4ms/step\n",
      "Epoch 4/200\n",
      "225/225 - 1s - loss: 0.4500 - accuracy: 0.8064 - val_loss: 0.4233 - val_accuracy: 0.8100 - 857ms/epoch - 4ms/step\n",
      "Epoch 5/200\n",
      "225/225 - 1s - loss: 0.4484 - accuracy: 0.8064 - val_loss: 0.4202 - val_accuracy: 0.8075 - 866ms/epoch - 4ms/step\n",
      "Epoch 6/200\n",
      "225/225 - 1s - loss: 0.4426 - accuracy: 0.8076 - val_loss: 0.4167 - val_accuracy: 0.8138 - 874ms/epoch - 4ms/step\n",
      "Epoch 7/200\n",
      "225/225 - 1s - loss: 0.4378 - accuracy: 0.8108 - val_loss: 0.4113 - val_accuracy: 0.8200 - 871ms/epoch - 4ms/step\n",
      "Epoch 8/200\n",
      "225/225 - 1s - loss: 0.4355 - accuracy: 0.8103 - val_loss: 0.4072 - val_accuracy: 0.8213 - 887ms/epoch - 4ms/step\n",
      "Epoch 9/200\n",
      "225/225 - 1s - loss: 0.4285 - accuracy: 0.8158 - val_loss: 0.4020 - val_accuracy: 0.8250 - 885ms/epoch - 4ms/step\n",
      "Epoch 10/200\n",
      "225/225 - 1s - loss: 0.4214 - accuracy: 0.8200 - val_loss: 0.3951 - val_accuracy: 0.8238 - 881ms/epoch - 4ms/step\n",
      "Epoch 11/200\n",
      "225/225 - 1s - loss: 0.4149 - accuracy: 0.8207 - val_loss: 0.3897 - val_accuracy: 0.8275 - 855ms/epoch - 4ms/step\n",
      "Epoch 12/200\n",
      "225/225 - 1s - loss: 0.4122 - accuracy: 0.8244 - val_loss: 0.3849 - val_accuracy: 0.8325 - 906ms/epoch - 4ms/step\n",
      "Epoch 13/200\n",
      "225/225 - 1s - loss: 0.4062 - accuracy: 0.8268 - val_loss: 0.3789 - val_accuracy: 0.8338 - 892ms/epoch - 4ms/step\n",
      "Epoch 14/200\n",
      "225/225 - 1s - loss: 0.4049 - accuracy: 0.8267 - val_loss: 0.3744 - val_accuracy: 0.8425 - 870ms/epoch - 4ms/step\n",
      "Epoch 15/200\n",
      "225/225 - 1s - loss: 0.4058 - accuracy: 0.8292 - val_loss: 0.3704 - val_accuracy: 0.8462 - 881ms/epoch - 4ms/step\n",
      "Epoch 16/200\n",
      "225/225 - 1s - loss: 0.4029 - accuracy: 0.8294 - val_loss: 0.3679 - val_accuracy: 0.8462 - 886ms/epoch - 4ms/step\n",
      "Epoch 17/200\n",
      "225/225 - 1s - loss: 0.3966 - accuracy: 0.8342 - val_loss: 0.3631 - val_accuracy: 0.8487 - 865ms/epoch - 4ms/step\n",
      "Epoch 18/200\n",
      "225/225 - 1s - loss: 0.3985 - accuracy: 0.8331 - val_loss: 0.3606 - val_accuracy: 0.8475 - 906ms/epoch - 4ms/step\n",
      "Epoch 19/200\n",
      "225/225 - 1s - loss: 0.3904 - accuracy: 0.8344 - val_loss: 0.3583 - val_accuracy: 0.8500 - 922ms/epoch - 4ms/step\n",
      "Epoch 20/200\n",
      "225/225 - 1s - loss: 0.3935 - accuracy: 0.8376 - val_loss: 0.3546 - val_accuracy: 0.8537 - 905ms/epoch - 4ms/step\n",
      "Epoch 21/200\n",
      "225/225 - 1s - loss: 0.3887 - accuracy: 0.8392 - val_loss: 0.3528 - val_accuracy: 0.8525 - 928ms/epoch - 4ms/step\n",
      "Epoch 22/200\n",
      "225/225 - 1s - loss: 0.3844 - accuracy: 0.8392 - val_loss: 0.3498 - val_accuracy: 0.8587 - 897ms/epoch - 4ms/step\n",
      "Epoch 23/200\n",
      "225/225 - 1s - loss: 0.3920 - accuracy: 0.8357 - val_loss: 0.3493 - val_accuracy: 0.8612 - 915ms/epoch - 4ms/step\n",
      "Epoch 24/200\n",
      "225/225 - 1s - loss: 0.3886 - accuracy: 0.8410 - val_loss: 0.3475 - val_accuracy: 0.8587 - 896ms/epoch - 4ms/step\n",
      "Epoch 25/200\n",
      "225/225 - 1s - loss: 0.3768 - accuracy: 0.8440 - val_loss: 0.3450 - val_accuracy: 0.8575 - 875ms/epoch - 4ms/step\n",
      "Epoch 26/200\n",
      "225/225 - 1s - loss: 0.3819 - accuracy: 0.8415 - val_loss: 0.3459 - val_accuracy: 0.8575 - 875ms/epoch - 4ms/step\n",
      "Epoch 27/200\n",
      "225/225 - 1s - loss: 0.3830 - accuracy: 0.8465 - val_loss: 0.3441 - val_accuracy: 0.8587 - 883ms/epoch - 4ms/step\n",
      "Epoch 28/200\n",
      "225/225 - 1s - loss: 0.3829 - accuracy: 0.8438 - val_loss: 0.3436 - val_accuracy: 0.8650 - 882ms/epoch - 4ms/step\n",
      "Epoch 29/200\n",
      "225/225 - 1s - loss: 0.3833 - accuracy: 0.8407 - val_loss: 0.3429 - val_accuracy: 0.8650 - 848ms/epoch - 4ms/step\n",
      "Epoch 30/200\n",
      "225/225 - 1s - loss: 0.3782 - accuracy: 0.8446 - val_loss: 0.3420 - val_accuracy: 0.8662 - 897ms/epoch - 4ms/step\n",
      "Epoch 31/200\n",
      "225/225 - 1s - loss: 0.3810 - accuracy: 0.8421 - val_loss: 0.3414 - val_accuracy: 0.8637 - 866ms/epoch - 4ms/step\n",
      "Epoch 32/200\n",
      "225/225 - 1s - loss: 0.3745 - accuracy: 0.8485 - val_loss: 0.3413 - val_accuracy: 0.8662 - 920ms/epoch - 4ms/step\n",
      "Epoch 33/200\n",
      "225/225 - 1s - loss: 0.3800 - accuracy: 0.8438 - val_loss: 0.3407 - val_accuracy: 0.8662 - 896ms/epoch - 4ms/step\n",
      "Epoch 34/200\n",
      "225/225 - 1s - loss: 0.3817 - accuracy: 0.8444 - val_loss: 0.3406 - val_accuracy: 0.8725 - 883ms/epoch - 4ms/step\n",
      "Epoch 35/200\n",
      "225/225 - 1s - loss: 0.3794 - accuracy: 0.8465 - val_loss: 0.3419 - val_accuracy: 0.8675 - 851ms/epoch - 4ms/step\n",
      "Epoch 36/200\n",
      "225/225 - 1s - loss: 0.3763 - accuracy: 0.8450 - val_loss: 0.3421 - val_accuracy: 0.8625 - 866ms/epoch - 4ms/step\n",
      "Epoch 37/200\n",
      "225/225 - 1s - loss: 0.3731 - accuracy: 0.8500 - val_loss: 0.3400 - val_accuracy: 0.8662 - 900ms/epoch - 4ms/step\n",
      "Epoch 38/200\n",
      "225/225 - 1s - loss: 0.3778 - accuracy: 0.8453 - val_loss: 0.3389 - val_accuracy: 0.8637 - 886ms/epoch - 4ms/step\n",
      "Epoch 39/200\n",
      "225/225 - 1s - loss: 0.3767 - accuracy: 0.8471 - val_loss: 0.3391 - val_accuracy: 0.8662 - 897ms/epoch - 4ms/step\n",
      "Epoch 40/200\n",
      "225/225 - 1s - loss: 0.3774 - accuracy: 0.8478 - val_loss: 0.3395 - val_accuracy: 0.8675 - 840ms/epoch - 4ms/step\n",
      "Epoch 41/200\n",
      "225/225 - 1s - loss: 0.3745 - accuracy: 0.8504 - val_loss: 0.3389 - val_accuracy: 0.8650 - 908ms/epoch - 4ms/step\n",
      "Epoch 42/200\n",
      "225/225 - 1s - loss: 0.3741 - accuracy: 0.8497 - val_loss: 0.3382 - val_accuracy: 0.8650 - 887ms/epoch - 4ms/step\n",
      "Epoch 43/200\n",
      "225/225 - 1s - loss: 0.3730 - accuracy: 0.8504 - val_loss: 0.3372 - val_accuracy: 0.8662 - 835ms/epoch - 4ms/step\n",
      "Epoch 44/200\n",
      "225/225 - 1s - loss: 0.3773 - accuracy: 0.8481 - val_loss: 0.3374 - val_accuracy: 0.8675 - 879ms/epoch - 4ms/step\n",
      "Epoch 45/200\n",
      "225/225 - 1s - loss: 0.3738 - accuracy: 0.8458 - val_loss: 0.3373 - val_accuracy: 0.8625 - 873ms/epoch - 4ms/step\n",
      "Epoch 46/200\n",
      "225/225 - 1s - loss: 0.3701 - accuracy: 0.8469 - val_loss: 0.3354 - val_accuracy: 0.8687 - 912ms/epoch - 4ms/step\n",
      "Epoch 47/200\n",
      "225/225 - 1s - loss: 0.3738 - accuracy: 0.8499 - val_loss: 0.3357 - val_accuracy: 0.8687 - 938ms/epoch - 4ms/step\n",
      "Epoch 48/200\n",
      "225/225 - 1s - loss: 0.3752 - accuracy: 0.8499 - val_loss: 0.3367 - val_accuracy: 0.8637 - 906ms/epoch - 4ms/step\n",
      "Epoch 49/200\n",
      "225/225 - 1s - loss: 0.3738 - accuracy: 0.8500 - val_loss: 0.3347 - val_accuracy: 0.8687 - 933ms/epoch - 4ms/step\n",
      "Epoch 50/200\n",
      "225/225 - 1s - loss: 0.3720 - accuracy: 0.8478 - val_loss: 0.3357 - val_accuracy: 0.8650 - 914ms/epoch - 4ms/step\n",
      "Epoch 51/200\n",
      "225/225 - 1s - loss: 0.3713 - accuracy: 0.8468 - val_loss: 0.3346 - val_accuracy: 0.8662 - 865ms/epoch - 4ms/step\n",
      "Epoch 52/200\n",
      "225/225 - 1s - loss: 0.3774 - accuracy: 0.8485 - val_loss: 0.3356 - val_accuracy: 0.8625 - 889ms/epoch - 4ms/step\n",
      "Epoch 53/200\n",
      "225/225 - 1s - loss: 0.3734 - accuracy: 0.8481 - val_loss: 0.3345 - val_accuracy: 0.8662 - 868ms/epoch - 4ms/step\n",
      "Epoch 54/200\n",
      "225/225 - 1s - loss: 0.3752 - accuracy: 0.8465 - val_loss: 0.3339 - val_accuracy: 0.8687 - 868ms/epoch - 4ms/step\n",
      "Epoch 55/200\n",
      "225/225 - 1s - loss: 0.3786 - accuracy: 0.8465 - val_loss: 0.3361 - val_accuracy: 0.8650 - 956ms/epoch - 4ms/step\n",
      "Epoch 56/200\n",
      "225/225 - 1s - loss: 0.3716 - accuracy: 0.8472 - val_loss: 0.3321 - val_accuracy: 0.8675 - 931ms/epoch - 4ms/step\n",
      "Epoch 57/200\n",
      "225/225 - 1s - loss: 0.3732 - accuracy: 0.8460 - val_loss: 0.3343 - val_accuracy: 0.8712 - 862ms/epoch - 4ms/step\n",
      "Epoch 58/200\n",
      "225/225 - 1s - loss: 0.3686 - accuracy: 0.8525 - val_loss: 0.3323 - val_accuracy: 0.8700 - 834ms/epoch - 4ms/step\n",
      "Epoch 59/200\n",
      "225/225 - 1s - loss: 0.3731 - accuracy: 0.8465 - val_loss: 0.3331 - val_accuracy: 0.8662 - 875ms/epoch - 4ms/step\n",
      "Epoch 60/200\n",
      "225/225 - 1s - loss: 0.3709 - accuracy: 0.8479 - val_loss: 0.3323 - val_accuracy: 0.8712 - 858ms/epoch - 4ms/step\n",
      "Epoch 61/200\n",
      "225/225 - 1s - loss: 0.3636 - accuracy: 0.8519 - val_loss: 0.3319 - val_accuracy: 0.8687 - 887ms/epoch - 4ms/step\n",
      "Epoch 62/200\n",
      "225/225 - 1s - loss: 0.3712 - accuracy: 0.8503 - val_loss: 0.3330 - val_accuracy: 0.8700 - 885ms/epoch - 4ms/step\n",
      "Epoch 63/200\n",
      "225/225 - 1s - loss: 0.3643 - accuracy: 0.8496 - val_loss: 0.3323 - val_accuracy: 0.8687 - 930ms/epoch - 4ms/step\n",
      "Epoch 64/200\n",
      "225/225 - 1s - loss: 0.3715 - accuracy: 0.8507 - val_loss: 0.3331 - val_accuracy: 0.8712 - 957ms/epoch - 4ms/step\n",
      "Epoch 65/200\n",
      "225/225 - 1s - loss: 0.3682 - accuracy: 0.8500 - val_loss: 0.3326 - val_accuracy: 0.8700 - 878ms/epoch - 4ms/step\n",
      "Epoch 66/200\n",
      "225/225 - 1s - loss: 0.3698 - accuracy: 0.8501 - val_loss: 0.3322 - val_accuracy: 0.8700 - 882ms/epoch - 4ms/step\n",
      "Epoch 67/200\n",
      "225/225 - 1s - loss: 0.3713 - accuracy: 0.8525 - val_loss: 0.3334 - val_accuracy: 0.8675 - 856ms/epoch - 4ms/step\n",
      "Epoch 68/200\n",
      "225/225 - 1s - loss: 0.3724 - accuracy: 0.8500 - val_loss: 0.3306 - val_accuracy: 0.8700 - 871ms/epoch - 4ms/step\n",
      "Epoch 69/200\n",
      "225/225 - 1s - loss: 0.3703 - accuracy: 0.8475 - val_loss: 0.3318 - val_accuracy: 0.8687 - 847ms/epoch - 4ms/step\n",
      "Epoch 70/200\n",
      "225/225 - 1s - loss: 0.3700 - accuracy: 0.8512 - val_loss: 0.3308 - val_accuracy: 0.8712 - 870ms/epoch - 4ms/step\n",
      "Epoch 71/200\n",
      "225/225 - 1s - loss: 0.3683 - accuracy: 0.8506 - val_loss: 0.3308 - val_accuracy: 0.8737 - 835ms/epoch - 4ms/step\n",
      "Epoch 72/200\n",
      "225/225 - 1s - loss: 0.3693 - accuracy: 0.8499 - val_loss: 0.3311 - val_accuracy: 0.8712 - 838ms/epoch - 4ms/step\n",
      "Epoch 73/200\n",
      "225/225 - 1s - loss: 0.3675 - accuracy: 0.8503 - val_loss: 0.3322 - val_accuracy: 0.8712 - 916ms/epoch - 4ms/step\n",
      "Epoch 74/200\n",
      "225/225 - 1s - loss: 0.3688 - accuracy: 0.8490 - val_loss: 0.3323 - val_accuracy: 0.8700 - 884ms/epoch - 4ms/step\n",
      "Epoch 75/200\n",
      "225/225 - 1s - loss: 0.3674 - accuracy: 0.8494 - val_loss: 0.3319 - val_accuracy: 0.8712 - 908ms/epoch - 4ms/step\n",
      "Epoch 76/200\n",
      "225/225 - 1s - loss: 0.3659 - accuracy: 0.8512 - val_loss: 0.3316 - val_accuracy: 0.8700 - 846ms/epoch - 4ms/step\n",
      "Epoch 77/200\n",
      "225/225 - 1s - loss: 0.3691 - accuracy: 0.8494 - val_loss: 0.3323 - val_accuracy: 0.8725 - 932ms/epoch - 4ms/step\n",
      "Epoch 78/200\n",
      "225/225 - 1s - loss: 0.3712 - accuracy: 0.8478 - val_loss: 0.3323 - val_accuracy: 0.8737 - 971ms/epoch - 4ms/step\n",
      "Epoch 79/200\n",
      "225/225 - 1s - loss: 0.3718 - accuracy: 0.8479 - val_loss: 0.3325 - val_accuracy: 0.8725 - 897ms/epoch - 4ms/step\n",
      "Epoch 80/200\n",
      "225/225 - 1s - loss: 0.3657 - accuracy: 0.8508 - val_loss: 0.3316 - val_accuracy: 0.8700 - 884ms/epoch - 4ms/step\n",
      "Epoch 81/200\n",
      "225/225 - 1s - loss: 0.3700 - accuracy: 0.8499 - val_loss: 0.3326 - val_accuracy: 0.8700 - 827ms/epoch - 4ms/step\n",
      "Epoch 82/200\n",
      "225/225 - 1s - loss: 0.3732 - accuracy: 0.8479 - val_loss: 0.3342 - val_accuracy: 0.8700 - 888ms/epoch - 4ms/step\n",
      "Epoch 83/200\n",
      "225/225 - 1s - loss: 0.3759 - accuracy: 0.8465 - val_loss: 0.3332 - val_accuracy: 0.8700 - 836ms/epoch - 4ms/step\n",
      "Epoch 84/200\n",
      "225/225 - 1s - loss: 0.3646 - accuracy: 0.8511 - val_loss: 0.3321 - val_accuracy: 0.8687 - 878ms/epoch - 4ms/step\n",
      "Epoch 85/200\n",
      "225/225 - 1s - loss: 0.3680 - accuracy: 0.8532 - val_loss: 0.3325 - val_accuracy: 0.8700 - 886ms/epoch - 4ms/step\n",
      "Epoch 86/200\n",
      "225/225 - 1s - loss: 0.3657 - accuracy: 0.8511 - val_loss: 0.3307 - val_accuracy: 0.8700 - 855ms/epoch - 4ms/step\n",
      "Epoch 87/200\n",
      "225/225 - 1s - loss: 0.3692 - accuracy: 0.8486 - val_loss: 0.3326 - val_accuracy: 0.8725 - 879ms/epoch - 4ms/step\n",
      "Epoch 88/200\n",
      "225/225 - 1s - loss: 0.3707 - accuracy: 0.8481 - val_loss: 0.3327 - val_accuracy: 0.8687 - 883ms/epoch - 4ms/step\n",
      "Epoch 89/200\n",
      "225/225 - 1s - loss: 0.3689 - accuracy: 0.8492 - val_loss: 0.3327 - val_accuracy: 0.8675 - 917ms/epoch - 4ms/step\n",
      "Epoch 90/200\n",
      "225/225 - 1s - loss: 0.3677 - accuracy: 0.8539 - val_loss: 0.3312 - val_accuracy: 0.8700 - 853ms/epoch - 4ms/step\n",
      "Epoch 91/200\n",
      "225/225 - 1s - loss: 0.3692 - accuracy: 0.8485 - val_loss: 0.3314 - val_accuracy: 0.8675 - 877ms/epoch - 4ms/step\n",
      "Epoch 92/200\n",
      "225/225 - 1s - loss: 0.3680 - accuracy: 0.8483 - val_loss: 0.3309 - val_accuracy: 0.8662 - 846ms/epoch - 4ms/step\n",
      "Epoch 93/200\n",
      "225/225 - 1s - loss: 0.3672 - accuracy: 0.8499 - val_loss: 0.3312 - val_accuracy: 0.8675 - 899ms/epoch - 4ms/step\n",
      "Epoch 94/200\n",
      "225/225 - 1s - loss: 0.3724 - accuracy: 0.8450 - val_loss: 0.3316 - val_accuracy: 0.8700 - 917ms/epoch - 4ms/step\n",
      "Epoch 95/200\n",
      "225/225 - 1s - loss: 0.3668 - accuracy: 0.8490 - val_loss: 0.3310 - val_accuracy: 0.8662 - 951ms/epoch - 4ms/step\n",
      "Epoch 96/200\n",
      "225/225 - 1s - loss: 0.3738 - accuracy: 0.8467 - val_loss: 0.3321 - val_accuracy: 0.8650 - 842ms/epoch - 4ms/step\n",
      "Epoch 97/200\n",
      "225/225 - 1s - loss: 0.3717 - accuracy: 0.8494 - val_loss: 0.3307 - val_accuracy: 0.8712 - 833ms/epoch - 4ms/step\n",
      "Epoch 98/200\n",
      "225/225 - 1s - loss: 0.3704 - accuracy: 0.8504 - val_loss: 0.3317 - val_accuracy: 0.8700 - 886ms/epoch - 4ms/step\n",
      "Epoch 99/200\n",
      "225/225 - 1s - loss: 0.3707 - accuracy: 0.8494 - val_loss: 0.3315 - val_accuracy: 0.8675 - 883ms/epoch - 4ms/step\n",
      "Epoch 100/200\n",
      "225/225 - 1s - loss: 0.3678 - accuracy: 0.8490 - val_loss: 0.3315 - val_accuracy: 0.8700 - 858ms/epoch - 4ms/step\n",
      "Epoch 101/200\n",
      "225/225 - 1s - loss: 0.3682 - accuracy: 0.8493 - val_loss: 0.3311 - val_accuracy: 0.8662 - 862ms/epoch - 4ms/step\n",
      "Epoch 102/200\n",
      "225/225 - 1s - loss: 0.3641 - accuracy: 0.8487 - val_loss: 0.3301 - val_accuracy: 0.8687 - 909ms/epoch - 4ms/step\n",
      "Epoch 103/200\n",
      "225/225 - 1s - loss: 0.3680 - accuracy: 0.8503 - val_loss: 0.3302 - val_accuracy: 0.8687 - 922ms/epoch - 4ms/step\n",
      "Epoch 104/200\n",
      "225/225 - 1s - loss: 0.3661 - accuracy: 0.8503 - val_loss: 0.3289 - val_accuracy: 0.8725 - 829ms/epoch - 4ms/step\n",
      "Epoch 105/200\n",
      "225/225 - 1s - loss: 0.3704 - accuracy: 0.8485 - val_loss: 0.3304 - val_accuracy: 0.8687 - 828ms/epoch - 4ms/step\n",
      "Epoch 106/200\n",
      "225/225 - 1s - loss: 0.3681 - accuracy: 0.8492 - val_loss: 0.3316 - val_accuracy: 0.8675 - 854ms/epoch - 4ms/step\n",
      "Epoch 107/200\n",
      "225/225 - 1s - loss: 0.3701 - accuracy: 0.8475 - val_loss: 0.3302 - val_accuracy: 0.8712 - 823ms/epoch - 4ms/step\n",
      "Epoch 108/200\n",
      "225/225 - 1s - loss: 0.3701 - accuracy: 0.8476 - val_loss: 0.3308 - val_accuracy: 0.8700 - 916ms/epoch - 4ms/step\n",
      "Epoch 109/200\n",
      "225/225 - 1s - loss: 0.3666 - accuracy: 0.8492 - val_loss: 0.3297 - val_accuracy: 0.8700 - 888ms/epoch - 4ms/step\n",
      "Epoch 110/200\n",
      "225/225 - 1s - loss: 0.3675 - accuracy: 0.8512 - val_loss: 0.3294 - val_accuracy: 0.8700 - 872ms/epoch - 4ms/step\n",
      "Epoch 111/200\n",
      "225/225 - 1s - loss: 0.3693 - accuracy: 0.8487 - val_loss: 0.3287 - val_accuracy: 0.8737 - 875ms/epoch - 4ms/step\n",
      "Epoch 112/200\n",
      "225/225 - 1s - loss: 0.3648 - accuracy: 0.8525 - val_loss: 0.3284 - val_accuracy: 0.8725 - 863ms/epoch - 4ms/step\n",
      "Epoch 113/200\n",
      "225/225 - 1s - loss: 0.3699 - accuracy: 0.8494 - val_loss: 0.3295 - val_accuracy: 0.8712 - 850ms/epoch - 4ms/step\n",
      "Epoch 114/200\n",
      "225/225 - 1s - loss: 0.3666 - accuracy: 0.8481 - val_loss: 0.3281 - val_accuracy: 0.8737 - 871ms/epoch - 4ms/step\n",
      "Epoch 115/200\n",
      "225/225 - 1s - loss: 0.3658 - accuracy: 0.8503 - val_loss: 0.3275 - val_accuracy: 0.8737 - 869ms/epoch - 4ms/step\n",
      "Epoch 116/200\n",
      "225/225 - 1s - loss: 0.3654 - accuracy: 0.8486 - val_loss: 0.3295 - val_accuracy: 0.8700 - 844ms/epoch - 4ms/step\n",
      "Epoch 117/200\n",
      "225/225 - 1s - loss: 0.3658 - accuracy: 0.8542 - val_loss: 0.3283 - val_accuracy: 0.8700 - 851ms/epoch - 4ms/step\n",
      "Epoch 118/200\n",
      "225/225 - 1s - loss: 0.3618 - accuracy: 0.8554 - val_loss: 0.3270 - val_accuracy: 0.8700 - 885ms/epoch - 4ms/step\n",
      "Epoch 119/200\n",
      "225/225 - 1s - loss: 0.3657 - accuracy: 0.8497 - val_loss: 0.3265 - val_accuracy: 0.8712 - 860ms/epoch - 4ms/step\n",
      "Epoch 120/200\n",
      "225/225 - 1s - loss: 0.3593 - accuracy: 0.8522 - val_loss: 0.3264 - val_accuracy: 0.8712 - 875ms/epoch - 4ms/step\n",
      "Epoch 121/200\n",
      "225/225 - 1s - loss: 0.3670 - accuracy: 0.8478 - val_loss: 0.3286 - val_accuracy: 0.8687 - 826ms/epoch - 4ms/step\n",
      "Epoch 122/200\n",
      "225/225 - 1s - loss: 0.3623 - accuracy: 0.8540 - val_loss: 0.3273 - val_accuracy: 0.8675 - 889ms/epoch - 4ms/step\n",
      "Epoch 123/200\n",
      "225/225 - 1s - loss: 0.3691 - accuracy: 0.8458 - val_loss: 0.3291 - val_accuracy: 0.8675 - 877ms/epoch - 4ms/step\n",
      "Epoch 124/200\n",
      "225/225 - 1s - loss: 0.3669 - accuracy: 0.8460 - val_loss: 0.3286 - val_accuracy: 0.8737 - 852ms/epoch - 4ms/step\n",
      "Epoch 125/200\n",
      "225/225 - 1s - loss: 0.3646 - accuracy: 0.8511 - val_loss: 0.3264 - val_accuracy: 0.8700 - 888ms/epoch - 4ms/step\n",
      "Epoch 126/200\n",
      "225/225 - 1s - loss: 0.3658 - accuracy: 0.8492 - val_loss: 0.3267 - val_accuracy: 0.8725 - 875ms/epoch - 4ms/step\n",
      "Epoch 127/200\n",
      "225/225 - 1s - loss: 0.3654 - accuracy: 0.8496 - val_loss: 0.3263 - val_accuracy: 0.8687 - 851ms/epoch - 4ms/step\n",
      "Epoch 128/200\n",
      "225/225 - 1s - loss: 0.3641 - accuracy: 0.8512 - val_loss: 0.3268 - val_accuracy: 0.8712 - 841ms/epoch - 4ms/step\n",
      "Epoch 129/200\n",
      "225/225 - 1s - loss: 0.3684 - accuracy: 0.8483 - val_loss: 0.3281 - val_accuracy: 0.8675 - 840ms/epoch - 4ms/step\n",
      "Epoch 130/200\n",
      "225/225 - 1s - loss: 0.3682 - accuracy: 0.8504 - val_loss: 0.3283 - val_accuracy: 0.8712 - 856ms/epoch - 4ms/step\n",
      "Epoch 131/200\n",
      "225/225 - 1s - loss: 0.3651 - accuracy: 0.8490 - val_loss: 0.3286 - val_accuracy: 0.8687 - 843ms/epoch - 4ms/step\n",
      "Epoch 132/200\n",
      "225/225 - 1s - loss: 0.3644 - accuracy: 0.8496 - val_loss: 0.3269 - val_accuracy: 0.8700 - 910ms/epoch - 4ms/step\n",
      "Epoch 133/200\n",
      "225/225 - 1s - loss: 0.3639 - accuracy: 0.8526 - val_loss: 0.3264 - val_accuracy: 0.8700 - 845ms/epoch - 4ms/step\n",
      "Epoch 134/200\n",
      "225/225 - 1s - loss: 0.3608 - accuracy: 0.8517 - val_loss: 0.3270 - val_accuracy: 0.8712 - 880ms/epoch - 4ms/step\n",
      "Epoch 135/200\n",
      "225/225 - 1s - loss: 0.3685 - accuracy: 0.8521 - val_loss: 0.3262 - val_accuracy: 0.8712 - 856ms/epoch - 4ms/step\n",
      "Epoch 136/200\n",
      "225/225 - 1s - loss: 0.3607 - accuracy: 0.8537 - val_loss: 0.3254 - val_accuracy: 0.8712 - 861ms/epoch - 4ms/step\n",
      "Epoch 137/200\n",
      "225/225 - 1s - loss: 0.3633 - accuracy: 0.8499 - val_loss: 0.3278 - val_accuracy: 0.8687 - 855ms/epoch - 4ms/step\n",
      "Epoch 138/200\n",
      "225/225 - 1s - loss: 0.3621 - accuracy: 0.8540 - val_loss: 0.3271 - val_accuracy: 0.8675 - 817ms/epoch - 4ms/step\n",
      "Epoch 139/200\n",
      "225/225 - 1s - loss: 0.3633 - accuracy: 0.8537 - val_loss: 0.3261 - val_accuracy: 0.8687 - 835ms/epoch - 4ms/step\n",
      "Epoch 140/200\n",
      "225/225 - 1s - loss: 0.3669 - accuracy: 0.8483 - val_loss: 0.3275 - val_accuracy: 0.8687 - 837ms/epoch - 4ms/step\n",
      "Epoch 141/200\n",
      "225/225 - 1s - loss: 0.3621 - accuracy: 0.8531 - val_loss: 0.3275 - val_accuracy: 0.8675 - 857ms/epoch - 4ms/step\n",
      "Epoch 142/200\n",
      "225/225 - 1s - loss: 0.3656 - accuracy: 0.8510 - val_loss: 0.3287 - val_accuracy: 0.8675 - 901ms/epoch - 4ms/step\n",
      "Epoch 143/200\n",
      "225/225 - 1s - loss: 0.3686 - accuracy: 0.8497 - val_loss: 0.3278 - val_accuracy: 0.8662 - 863ms/epoch - 4ms/step\n",
      "Epoch 144/200\n",
      "225/225 - 1s - loss: 0.3641 - accuracy: 0.8511 - val_loss: 0.3265 - val_accuracy: 0.8712 - 863ms/epoch - 4ms/step\n",
      "Epoch 145/200\n",
      "225/225 - 1s - loss: 0.3681 - accuracy: 0.8479 - val_loss: 0.3270 - val_accuracy: 0.8712 - 862ms/epoch - 4ms/step\n",
      "Epoch 146/200\n",
      "225/225 - 1s - loss: 0.3586 - accuracy: 0.8540 - val_loss: 0.3252 - val_accuracy: 0.8712 - 866ms/epoch - 4ms/step\n",
      "Epoch 147/200\n",
      "225/225 - 1s - loss: 0.3624 - accuracy: 0.8529 - val_loss: 0.3279 - val_accuracy: 0.8687 - 860ms/epoch - 4ms/step\n",
      "Epoch 148/200\n",
      "225/225 - 1s - loss: 0.3623 - accuracy: 0.8531 - val_loss: 0.3276 - val_accuracy: 0.8662 - 867ms/epoch - 4ms/step\n",
      "Epoch 149/200\n",
      "225/225 - 1s - loss: 0.3633 - accuracy: 0.8542 - val_loss: 0.3275 - val_accuracy: 0.8662 - 883ms/epoch - 4ms/step\n",
      "Epoch 150/200\n",
      "225/225 - 1s - loss: 0.3637 - accuracy: 0.8524 - val_loss: 0.3291 - val_accuracy: 0.8662 - 910ms/epoch - 4ms/step\n",
      "Epoch 151/200\n",
      "225/225 - 1s - loss: 0.3690 - accuracy: 0.8515 - val_loss: 0.3287 - val_accuracy: 0.8687 - 874ms/epoch - 4ms/step\n",
      "Epoch 152/200\n",
      "225/225 - 1s - loss: 0.3595 - accuracy: 0.8561 - val_loss: 0.3268 - val_accuracy: 0.8712 - 826ms/epoch - 4ms/step\n",
      "Epoch 153/200\n",
      "225/225 - 1s - loss: 0.3669 - accuracy: 0.8497 - val_loss: 0.3263 - val_accuracy: 0.8687 - 892ms/epoch - 4ms/step\n",
      "Epoch 154/200\n",
      "225/225 - 1s - loss: 0.3645 - accuracy: 0.8519 - val_loss: 0.3262 - val_accuracy: 0.8712 - 852ms/epoch - 4ms/step\n",
      "Epoch 155/200\n",
      "225/225 - 1s - loss: 0.3646 - accuracy: 0.8537 - val_loss: 0.3257 - val_accuracy: 0.8737 - 870ms/epoch - 4ms/step\n",
      "Epoch 156/200\n",
      "225/225 - 1s - loss: 0.3623 - accuracy: 0.8528 - val_loss: 0.3279 - val_accuracy: 0.8675 - 857ms/epoch - 4ms/step\n",
      "Epoch 157/200\n",
      "225/225 - 1s - loss: 0.3694 - accuracy: 0.8490 - val_loss: 0.3272 - val_accuracy: 0.8712 - 847ms/epoch - 4ms/step\n",
      "Epoch 158/200\n",
      "225/225 - 1s - loss: 0.3658 - accuracy: 0.8517 - val_loss: 0.3282 - val_accuracy: 0.8712 - 766ms/epoch - 3ms/step\n",
      "Epoch 159/200\n",
      "225/225 - 1s - loss: 0.3640 - accuracy: 0.8519 - val_loss: 0.3282 - val_accuracy: 0.8687 - 891ms/epoch - 4ms/step\n",
      "Epoch 160/200\n",
      "225/225 - 1s - loss: 0.3669 - accuracy: 0.8521 - val_loss: 0.3269 - val_accuracy: 0.8712 - 869ms/epoch - 4ms/step\n",
      "Epoch 161/200\n",
      "225/225 - 1s - loss: 0.3624 - accuracy: 0.8524 - val_loss: 0.3259 - val_accuracy: 0.8712 - 851ms/epoch - 4ms/step\n",
      "Epoch 162/200\n",
      "225/225 - 1s - loss: 0.3667 - accuracy: 0.8504 - val_loss: 0.3264 - val_accuracy: 0.8700 - 890ms/epoch - 4ms/step\n",
      "Epoch 163/200\n",
      "225/225 - 1s - loss: 0.3630 - accuracy: 0.8521 - val_loss: 0.3261 - val_accuracy: 0.8700 - 916ms/epoch - 4ms/step\n",
      "Epoch 164/200\n",
      "225/225 - 1s - loss: 0.3649 - accuracy: 0.8536 - val_loss: 0.3266 - val_accuracy: 0.8700 - 866ms/epoch - 4ms/step\n",
      "Epoch 165/200\n",
      "225/225 - 1s - loss: 0.3669 - accuracy: 0.8501 - val_loss: 0.3266 - val_accuracy: 0.8700 - 847ms/epoch - 4ms/step\n",
      "Epoch 166/200\n",
      "225/225 - 1s - loss: 0.3617 - accuracy: 0.8542 - val_loss: 0.3266 - val_accuracy: 0.8687 - 876ms/epoch - 4ms/step\n",
      "Epoch 167/200\n",
      "225/225 - 1s - loss: 0.3607 - accuracy: 0.8560 - val_loss: 0.3266 - val_accuracy: 0.8687 - 854ms/epoch - 4ms/step\n",
      "Epoch 168/200\n",
      "225/225 - 1s - loss: 0.3584 - accuracy: 0.8554 - val_loss: 0.3263 - val_accuracy: 0.8700 - 865ms/epoch - 4ms/step\n",
      "Epoch 169/200\n",
      "225/225 - 1s - loss: 0.3644 - accuracy: 0.8547 - val_loss: 0.3269 - val_accuracy: 0.8662 - 867ms/epoch - 4ms/step\n",
      "Epoch 170/200\n",
      "225/225 - 1s - loss: 0.3620 - accuracy: 0.8540 - val_loss: 0.3275 - val_accuracy: 0.8637 - 951ms/epoch - 4ms/step\n",
      "Epoch 171/200\n",
      "225/225 - 1s - loss: 0.3624 - accuracy: 0.8540 - val_loss: 0.3268 - val_accuracy: 0.8675 - 897ms/epoch - 4ms/step\n",
      "Epoch 172/200\n",
      "225/225 - 1s - loss: 0.3662 - accuracy: 0.8526 - val_loss: 0.3271 - val_accuracy: 0.8687 - 881ms/epoch - 4ms/step\n",
      "Epoch 173/200\n",
      "225/225 - 1s - loss: 0.3607 - accuracy: 0.8546 - val_loss: 0.3258 - val_accuracy: 0.8700 - 858ms/epoch - 4ms/step\n",
      "Epoch 174/200\n",
      "225/225 - 1s - loss: 0.3685 - accuracy: 0.8501 - val_loss: 0.3278 - val_accuracy: 0.8675 - 850ms/epoch - 4ms/step\n",
      "Epoch 175/200\n",
      "225/225 - 1s - loss: 0.3665 - accuracy: 0.8519 - val_loss: 0.3268 - val_accuracy: 0.8662 - 868ms/epoch - 4ms/step\n",
      "Epoch 176/200\n",
      "225/225 - 1s - loss: 0.3658 - accuracy: 0.8482 - val_loss: 0.3257 - val_accuracy: 0.8712 - 878ms/epoch - 4ms/step\n",
      "Epoch 177/200\n",
      "225/225 - 1s - loss: 0.3625 - accuracy: 0.8544 - val_loss: 0.3251 - val_accuracy: 0.8700 - 877ms/epoch - 4ms/step\n",
      "Epoch 178/200\n",
      "225/225 - 1s - loss: 0.3640 - accuracy: 0.8537 - val_loss: 0.3254 - val_accuracy: 0.8675 - 896ms/epoch - 4ms/step\n",
      "Epoch 179/200\n",
      "225/225 - 1s - loss: 0.3605 - accuracy: 0.8521 - val_loss: 0.3243 - val_accuracy: 0.8700 - 884ms/epoch - 4ms/step\n",
      "Epoch 180/200\n",
      "225/225 - 1s - loss: 0.3643 - accuracy: 0.8517 - val_loss: 0.3258 - val_accuracy: 0.8675 - 875ms/epoch - 4ms/step\n",
      "Epoch 181/200\n",
      "225/225 - 1s - loss: 0.3665 - accuracy: 0.8517 - val_loss: 0.3271 - val_accuracy: 0.8637 - 902ms/epoch - 4ms/step\n",
      "Epoch 182/200\n",
      "225/225 - 1s - loss: 0.3657 - accuracy: 0.8518 - val_loss: 0.3266 - val_accuracy: 0.8687 - 910ms/epoch - 4ms/step\n",
      "Epoch 183/200\n",
      "225/225 - 1s - loss: 0.3625 - accuracy: 0.8519 - val_loss: 0.3246 - val_accuracy: 0.8687 - 874ms/epoch - 4ms/step\n",
      "Epoch 184/200\n",
      "225/225 - 1s - loss: 0.3631 - accuracy: 0.8526 - val_loss: 0.3259 - val_accuracy: 0.8675 - 868ms/epoch - 4ms/step\n",
      "Epoch 185/200\n",
      "225/225 - 1s - loss: 0.3699 - accuracy: 0.8500 - val_loss: 0.3261 - val_accuracy: 0.8675 - 878ms/epoch - 4ms/step\n",
      "Epoch 186/200\n",
      "225/225 - 1s - loss: 0.3620 - accuracy: 0.8546 - val_loss: 0.3244 - val_accuracy: 0.8687 - 878ms/epoch - 4ms/step\n",
      "Epoch 187/200\n",
      "225/225 - 1s - loss: 0.3608 - accuracy: 0.8542 - val_loss: 0.3249 - val_accuracy: 0.8675 - 846ms/epoch - 4ms/step\n",
      "Epoch 188/200\n",
      "225/225 - 1s - loss: 0.3623 - accuracy: 0.8537 - val_loss: 0.3268 - val_accuracy: 0.8662 - 889ms/epoch - 4ms/step\n",
      "Epoch 189/200\n",
      "225/225 - 1s - loss: 0.3665 - accuracy: 0.8514 - val_loss: 0.3263 - val_accuracy: 0.8675 - 911ms/epoch - 4ms/step\n",
      "Epoch 190/200\n",
      "225/225 - 1s - loss: 0.3625 - accuracy: 0.8537 - val_loss: 0.3252 - val_accuracy: 0.8700 - 864ms/epoch - 4ms/step\n",
      "Epoch 191/200\n",
      "225/225 - 1s - loss: 0.3603 - accuracy: 0.8557 - val_loss: 0.3261 - val_accuracy: 0.8700 - 877ms/epoch - 4ms/step\n",
      "Epoch 192/200\n",
      "225/225 - 1s - loss: 0.3631 - accuracy: 0.8507 - val_loss: 0.3259 - val_accuracy: 0.8687 - 821ms/epoch - 4ms/step\n",
      "Epoch 193/200\n",
      "225/225 - 1s - loss: 0.3603 - accuracy: 0.8525 - val_loss: 0.3264 - val_accuracy: 0.8675 - 815ms/epoch - 4ms/step\n",
      "Epoch 194/200\n",
      "225/225 - 1s - loss: 0.3641 - accuracy: 0.8535 - val_loss: 0.3251 - val_accuracy: 0.8675 - 767ms/epoch - 3ms/step\n",
      "Epoch 195/200\n",
      "225/225 - 1s - loss: 0.3609 - accuracy: 0.8532 - val_loss: 0.3255 - val_accuracy: 0.8650 - 814ms/epoch - 4ms/step\n",
      "Epoch 196/200\n",
      "225/225 - 1s - loss: 0.3613 - accuracy: 0.8561 - val_loss: 0.3268 - val_accuracy: 0.8687 - 837ms/epoch - 4ms/step\n",
      "Epoch 197/200\n",
      "225/225 - 1s - loss: 0.3618 - accuracy: 0.8507 - val_loss: 0.3283 - val_accuracy: 0.8675 - 788ms/epoch - 4ms/step\n",
      "Epoch 198/200\n",
      "225/225 - 1s - loss: 0.3694 - accuracy: 0.8497 - val_loss: 0.3264 - val_accuracy: 0.8725 - 789ms/epoch - 4ms/step\n",
      "Epoch 199/200\n",
      "225/225 - 1s - loss: 0.3594 - accuracy: 0.8554 - val_loss: 0.3253 - val_accuracy: 0.8675 - 737ms/epoch - 3ms/step\n",
      "Epoch 200/200\n",
      "225/225 - 1s - loss: 0.3609 - accuracy: 0.8524 - val_loss: 0.3262 - val_accuracy: 0.8687 - 793ms/epoch - 4ms/step\n"
     ]
    }
   ],
   "source": [
    "history = classifier.fit(X_train, y_train, batch_size = 32, epochs = 200, validation_split = 0.1, verbose = 2)"
   ]
  },
  {
   "cell_type": "code",
   "execution_count": 18,
   "metadata": {
    "colab": {
     "base_uri": "https://localhost:8080/"
    },
    "id": "aq1-eNM2YqL8",
    "outputId": "0fd0fa0a-cf54-4637-f8b6-f15342002a15",
    "tags": []
   },
   "outputs": [
    {
     "name": "stdout",
     "output_type": "stream",
     "text": [
      "63/63 [==============================] - 0s 2ms/step\n",
      "[[0.25835028]\n",
      " [0.28194377]\n",
      " [0.18433088]\n",
      " [0.07922497]\n",
      " [0.08735227]]\n"
     ]
    }
   ],
   "source": [
    "y_pred = classifier.predict(X_test)\n",
    "print(y_pred[:5])"
   ]
  },
  {
   "cell_type": "code",
   "execution_count": 19,
   "metadata": {
    "colab": {
     "base_uri": "https://localhost:8080/"
    },
    "id": "S8JJz5bLY-7I",
    "outputId": "00827497-0dfb-49c4-d70b-2071d70ae5f0",
    "tags": []
   },
   "outputs": [
    {
     "name": "stdout",
     "output_type": "stream",
     "text": [
      "[[0]\n",
      " [0]\n",
      " [0]\n",
      " [0]\n",
      " [0]]\n"
     ]
    }
   ],
   "source": [
    "y_pred = (y_pred > 0.5).astype(int)\n",
    "print(y_pred[:5])"
   ]
  },
  {
   "cell_type": "code",
   "execution_count": 20,
   "metadata": {
    "colab": {
     "base_uri": "https://localhost:8080/"
    },
    "id": "Bcyv6h2UZPbO",
    "outputId": "6ca6b222-2516-4b03-c081-1ba7feaa6817",
    "tags": []
   },
   "outputs": [
    {
     "name": "stdout",
     "output_type": "stream",
     "text": [
      "[[1551   44]\n",
      " [ 227  178]]\n"
     ]
    }
   ],
   "source": [
    "from sklearn.metrics import confusion_matrix\n",
    "cm = confusion_matrix(y_test, y_pred)\n",
    "print(cm)"
   ]
  },
  {
   "cell_type": "code",
   "execution_count": 21,
   "metadata": {
    "colab": {
     "base_uri": "https://localhost:8080/"
    },
    "id": "l3weViSLZc1v",
    "outputId": "64895b62-30f8-4e86-e592-d3fae20b2673",
    "tags": []
   },
   "outputs": [
    {
     "name": "stdout",
     "output_type": "stream",
     "text": [
      "86.45 % of data was classified correctly\n"
     ]
    }
   ],
   "source": [
    "print(((cm[0][0] + cm[1][1])* 100) / len(y_test), '% of data was classified correctly')"
   ]
  }
 ],
 "metadata": {
  "colab": {
   "provenance": []
  },
  "interpreter": {
   "hash": "f82e9eef39fec3b4432bd3d531b07136b7f172564442eec42315ae171445fe6f"
  },
  "kernelspec": {
   "display_name": "Python 3 (ipykernel)",
   "language": "python",
   "name": "python3"
  },
  "language_info": {
   "codemirror_mode": {
    "name": "ipython",
    "version": 3
   },
   "file_extension": ".py",
   "mimetype": "text/x-python",
   "name": "python",
   "nbconvert_exporter": "python",
   "pygments_lexer": "ipython3",
   "version": "3.11.3"
  }
 },
 "nbformat": 4,
 "nbformat_minor": 4
}
